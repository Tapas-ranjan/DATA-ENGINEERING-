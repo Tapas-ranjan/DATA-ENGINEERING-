{
  "nbformat": 4,
  "nbformat_minor": 0,
  "metadata": {
    "colab": {
      "name": "Untitled2.ipynb",
      "provenance": [],
      "authorship_tag": "ABX9TyOj9PB02kqtZB38l93V1FRC",
      "include_colab_link": true
    },
    "kernelspec": {
      "name": "python3",
      "display_name": "Python 3"
    }
  },
  "cells": [
    {
      "cell_type": "markdown",
      "metadata": {
        "id": "view-in-github",
        "colab_type": "text"
      },
      "source": [
        "<a href=\"https://colab.research.google.com/github/Tapas-ranjan/DATA-ENGINEERING-/blob/main/Untitled2.ipynb\" target=\"_parent\"><img src=\"https://colab.research.google.com/assets/colab-badge.svg\" alt=\"Open In Colab\"/></a>"
      ]
    },
    {
      "cell_type": "code",
      "metadata": {
        "id": "DqDI42wbTezx"
      },
      "source": [
        "import pandas as pd\n",
        "import numpy as nm\n"
      ],
      "execution_count": 1,
      "outputs": []
    },
    {
      "cell_type": "code",
      "metadata": {
        "colab": {
          "base_uri": "https://localhost:8080/",
          "height": 204
        },
        "id": "Wg19boZzUWQE",
        "outputId": "22ff0fd1-f501-46a6-c7c7-c7e497774d67"
      },
      "source": [
        "GLOBAL_DATA = {\n",
        "     'Customer_Name':['Alex','John','Mathew','Matt','Jacob'],\n",
        "     'Customer_id':[123457,123458,123459,12345,1256],\n",
        "     'Open_date':['20101012','20101012','20101012','20101012','20101012',], \n",
        "     'Last_Consulated_Date':['20121013','20121013','20121013','20121013','20121013',], \n",
        "     'Vaccination_id':['MVD','MVD','MVD','MVD','MVD',], \n",
        "     'Dr_name CHAR':['Paul','Paul','Paul','Paul','Paul',],\n",
        "     'State':['SA','TN','WAS','BOS','VIS'],\n",
        "     'Country':['USA','IND','PHIL','NYC','AU'],\n",
        "     'Post_code':['06031987','06031987','06031987','06031987','06031987',],\n",
        "     'Active_customer':['A','A','A','A','A'] \n",
        "}\n",
        "df = pd.DataFrame(GLOBAL_DATA)\n",
        "df"
      ],
      "execution_count": 4,
      "outputs": [
        {
          "output_type": "execute_result",
          "data": {
            "text/html": [
              "<div>\n",
              "<style scoped>\n",
              "    .dataframe tbody tr th:only-of-type {\n",
              "        vertical-align: middle;\n",
              "    }\n",
              "\n",
              "    .dataframe tbody tr th {\n",
              "        vertical-align: top;\n",
              "    }\n",
              "\n",
              "    .dataframe thead th {\n",
              "        text-align: right;\n",
              "    }\n",
              "</style>\n",
              "<table border=\"1\" class=\"dataframe\">\n",
              "  <thead>\n",
              "    <tr style=\"text-align: right;\">\n",
              "      <th></th>\n",
              "      <th>Customer_Name</th>\n",
              "      <th>Customer_id</th>\n",
              "      <th>Open_date</th>\n",
              "      <th>Last_Consulated_Date</th>\n",
              "      <th>Vaccination_id</th>\n",
              "      <th>Dr_name CHAR</th>\n",
              "      <th>State</th>\n",
              "      <th>Country</th>\n",
              "      <th>Post_code</th>\n",
              "      <th>Active_customer</th>\n",
              "    </tr>\n",
              "  </thead>\n",
              "  <tbody>\n",
              "    <tr>\n",
              "      <th>0</th>\n",
              "      <td>Alex</td>\n",
              "      <td>123457</td>\n",
              "      <td>20101012</td>\n",
              "      <td>20121013</td>\n",
              "      <td>MVD</td>\n",
              "      <td>Paul</td>\n",
              "      <td>SA</td>\n",
              "      <td>USA</td>\n",
              "      <td>06031987</td>\n",
              "      <td>A</td>\n",
              "    </tr>\n",
              "    <tr>\n",
              "      <th>1</th>\n",
              "      <td>John</td>\n",
              "      <td>123458</td>\n",
              "      <td>20101012</td>\n",
              "      <td>20121013</td>\n",
              "      <td>MVD</td>\n",
              "      <td>Paul</td>\n",
              "      <td>TN</td>\n",
              "      <td>IND</td>\n",
              "      <td>06031987</td>\n",
              "      <td>A</td>\n",
              "    </tr>\n",
              "    <tr>\n",
              "      <th>2</th>\n",
              "      <td>Mathew</td>\n",
              "      <td>123459</td>\n",
              "      <td>20101012</td>\n",
              "      <td>20121013</td>\n",
              "      <td>MVD</td>\n",
              "      <td>Paul</td>\n",
              "      <td>WAS</td>\n",
              "      <td>PHIL</td>\n",
              "      <td>06031987</td>\n",
              "      <td>A</td>\n",
              "    </tr>\n",
              "    <tr>\n",
              "      <th>3</th>\n",
              "      <td>Matt</td>\n",
              "      <td>12345</td>\n",
              "      <td>20101012</td>\n",
              "      <td>20121013</td>\n",
              "      <td>MVD</td>\n",
              "      <td>Paul</td>\n",
              "      <td>BOS</td>\n",
              "      <td>NYC</td>\n",
              "      <td>06031987</td>\n",
              "      <td>A</td>\n",
              "    </tr>\n",
              "    <tr>\n",
              "      <th>4</th>\n",
              "      <td>Jacob</td>\n",
              "      <td>1256</td>\n",
              "      <td>20101012</td>\n",
              "      <td>20121013</td>\n",
              "      <td>MVD</td>\n",
              "      <td>Paul</td>\n",
              "      <td>VIS</td>\n",
              "      <td>AU</td>\n",
              "      <td>06031987</td>\n",
              "      <td>A</td>\n",
              "    </tr>\n",
              "  </tbody>\n",
              "</table>\n",
              "</div>"
            ],
            "text/plain": [
              "  Customer_Name  Customer_id Open_date  ... Country Post_code Active_customer\n",
              "0          Alex       123457  20101012  ...     USA  06031987               A\n",
              "1          John       123458  20101012  ...     IND  06031987               A\n",
              "2        Mathew       123459  20101012  ...    PHIL  06031987               A\n",
              "3          Matt        12345  20101012  ...     NYC  06031987               A\n",
              "4         Jacob         1256  20101012  ...      AU  06031987               A\n",
              "\n",
              "[5 rows x 10 columns]"
            ]
          },
          "metadata": {
            "tags": []
          },
          "execution_count": 4
        }
      ]
    }
  ]
}