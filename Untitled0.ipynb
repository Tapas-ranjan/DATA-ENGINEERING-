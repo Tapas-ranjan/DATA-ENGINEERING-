{
  "nbformat": 4,
  "nbformat_minor": 0,
  "metadata": {
    "colab": {
      "name": "Untitled0.ipynb",
      "provenance": [],
      "collapsed_sections": [],
      "authorship_tag": "ABX9TyN9WwEiynsdNNlI6AUs73hm",
      "include_colab_link": true
    },
    "kernelspec": {
      "name": "python3",
      "display_name": "Python 3"
    }
  },
  "cells": [
    {
      "cell_type": "markdown",
      "metadata": {
        "id": "view-in-github",
        "colab_type": "text"
      },
      "source": [
        "<a href=\"https://colab.research.google.com/github/Tapas-ranjan/DATA-ENGINEERING-/blob/main/Untitled0.ipynb\" target=\"_parent\"><img src=\"https://colab.research.google.com/assets/colab-badge.svg\" alt=\"Open In Colab\"/></a>"
      ]
    },
    {
      "cell_type": "code",
      "metadata": {
        "id": "iNl8WsaPBUMj"
      },
      "source": [
        "#find all the numbers which are divisible by 7 and not multiple of 5,between 2000 to 3200 and they should be a , separated single line.\n",
        "for x in range(2000, 3200):\n",
        "    if (x%7)==00 and (x%5)!=0:\n",
        "        print(x ,end=(\",\")) "
      ],
      "execution_count": null,
      "outputs": []
    },
    {
      "cell_type": "code",
      "metadata": {
        "id": "uKG4xtu9LyLY",
        "colab": {
          "base_uri": "https://localhost:8080/"
        },
        "outputId": "a093756c-612e-4024-8640-a7ec479917fe"
      },
      "source": [
        "# Accecpt user's first_name and last_name ,Print them in reverse order with a space .\n",
        "f_name = \"Tapas\"\n",
        "l_name = \"Biswal\"\n",
        "User_name = (f_name+\" \"+ l_name)\n",
        "#print(User_name)\n",
        "for i in [User_name]:\n",
        "\n",
        "    if type(i) == str:\n",
        "\n",
        "        for i in i[::-1]:\n",
        "\n",
        "            print(i,end=\"\")"
      ],
      "execution_count": null,
      "outputs": [
        {
          "output_type": "stream",
          "text": [
            "lawsiB sapaT"
          ],
          "name": "stdout"
        }
      ]
    },
    {
      "cell_type": "code",
      "metadata": {
        "id": "-H1Udln2NGrf",
        "colab": {
          "base_uri": "https://localhost:8080/"
        },
        "outputId": "becabf9f-8907-46b9-b31c-744d755d80cd"
      },
      "source": [
        "#find the volume of spear ,given dimeter 12cm.\n",
        "dimeter = 12\n",
        "radious = dimeter/2\n",
        "radious = int(input('radious of spear = ' ))\n",
        "volume = 4/3*(22/7)*radious*radious*radious\n",
        "print(\"volume of spear is  \"+str(volume))\n"
      ],
      "execution_count": null,
      "outputs": [
        {
          "output_type": "stream",
          "text": [
            "radious of spear = 2\n",
            "volume of spear is  33.52380952380952\n"
          ],
          "name": "stdout"
        }
      ]
    },
    {
      "cell_type": "code",
      "metadata": {
        "id": "z7TNhT4APpvk",
        "colab": {
          "base_uri": "https://localhost:8080/"
        },
        "outputId": "0700adb4-4796-44a5-a77f-c0199c13dc23"
      },
      "source": [
        "num = (1,12,22,32,1,3,4)\r\n",
        "if num[3]==33:\r\n",
        "  print(\"i am a coder\")\r\n",
        "else:\r\n",
        "    print(\"i am not\")"
      ],
      "execution_count": null,
      "outputs": [
        {
          "output_type": "stream",
          "text": [
            "i am not\n"
          ],
          "name": "stdout"
        }
      ]
    },
    {
      "cell_type": "code",
      "metadata": {
        "id": "RqxREfveR_Wg"
      },
      "source": [
        "import random"
      ],
      "execution_count": null,
      "outputs": []
    },
    {
      "cell_type": "code",
      "metadata": {
        "id": "HCmnVjToXKRd"
      },
      "source": [
        "name = [\"abc\",\"bef\",\"hgf\",\"hghghg\",\"iiiiiii\"]\r\n",
        "res = max(name,key = len)\r\n",
        "t = len(res)\r\n",
        "print(len(res))\r\n",
        "while(t):\r\n",
        "    for i in name:\r\n",
        "        if len(i)>=t:\r\n",
        "\r\n",
        "          print(i[len(i)-t],end=\"\")\r\n",
        "        else:\r\n",
        "            print('',end=\" \")\r\n",
        "    print(\"\\n\")\r\n",
        "    t-=1\r\n"
      ],
      "execution_count": null,
      "outputs": []
    },
    {
      "cell_type": "code",
      "metadata": {
        "id": "drbVcFwBrZ5L"
      },
      "source": [
        "def div(j):\r\n",
        " j = int()\r\n",
        " while j>3:\r\n",
        "     j//=2\r\n",
        "     return(j)\r\n",
        "div(49)"
      ],
      "execution_count": 4,
      "outputs": []
    },
    {
      "cell_type": "code",
      "metadata": {
        "id": "Cwn3BS6RH1nW"
      },
      "source": [
        "n = int(input(\"enter number\"))\r\n",
        "while n > 3:\r\n",
        "    n //= 2 \r\n",
        "    print (n)"
      ],
      "execution_count": null,
      "outputs": []
    },
    {
      "cell_type": "code",
      "metadata": {
        "id": "R6zq-iSj4LzP",
        "colab": {
          "base_uri": "https://localhost:8080/"
        },
        "outputId": "00cb460a-0f87-4e5c-a9ec-3cda224da55e"
      },
      "source": [
        "print(dir(__builtin__))\r\n",
        "print(\"\\n\")"
      ],
      "execution_count": 50,
      "outputs": [
        {
          "output_type": "stream",
          "text": [
            "['ArithmeticError', 'AssertionError', 'AttributeError', 'BaseException', 'BlockingIOError', 'BrokenPipeError', 'BufferError', 'BytesWarning', 'ChildProcessError', 'ConnectionAbortedError', 'ConnectionError', 'ConnectionRefusedError', 'ConnectionResetError', 'DeprecationWarning', 'EOFError', 'Ellipsis', 'EnvironmentError', 'Exception', 'False', 'FileExistsError', 'FileNotFoundError', 'FloatingPointError', 'FutureWarning', 'GeneratorExit', 'IOError', 'ImportError', 'ImportWarning', 'IndentationError', 'IndexError', 'InterruptedError', 'IsADirectoryError', 'KeyError', 'KeyboardInterrupt', 'LookupError', 'MemoryError', 'ModuleNotFoundError', 'NameError', 'None', 'NotADirectoryError', 'NotImplemented', 'NotImplementedError', 'OSError', 'OverflowError', 'PendingDeprecationWarning', 'PermissionError', 'ProcessLookupError', 'RecursionError', 'ReferenceError', 'ResourceWarning', 'RuntimeError', 'RuntimeWarning', 'StopAsyncIteration', 'StopIteration', 'SyntaxError', 'SyntaxWarning', 'SystemError', 'SystemExit', 'TabError', 'TimeoutError', 'True', 'TypeError', 'UnboundLocalError', 'UnicodeDecodeError', 'UnicodeEncodeError', 'UnicodeError', 'UnicodeTranslateError', 'UnicodeWarning', 'UserWarning', 'ValueError', 'Warning', 'ZeroDivisionError', '__IPYTHON__', '__build_class__', '__debug__', '__doc__', '__import__', '__loader__', '__name__', '__package__', '__spec__', 'abs', 'all', 'any', 'ascii', 'bin', 'bool', 'bytearray', 'bytes', 'callable', 'chr', 'classmethod', 'compile', 'complex', 'copyright', 'credits', 'delattr', 'dict', 'dir', 'display', 'divmod', 'dreload', 'enumerate', 'eval', 'exec', 'filter', 'float', 'format', 'frozenset', 'get_ipython', 'getattr', 'globals', 'hasattr', 'hash', 'help', 'hex', 'id', 'input', 'int', 'isinstance', 'issubclass', 'iter', 'len', 'license', 'list', 'locals', 'map', 'max', 'memoryview', 'min', 'next', 'object', 'oct', 'open', 'ord', 'pow', 'print', 'property', 'range', 'repr', 'reversed', 'round', 'set', 'setattr', 'slice', 'sorted', 'staticmethod', 'str', 'sum', 'super', 'tuple', 'type', 'vars', 'zip']\n",
            "\n",
            "\n"
          ],
          "name": "stdout"
        }
      ]
    },
    {
      "cell_type": "code",
      "metadata": {
        "id": "toQJVkDr8hRq"
      },
      "source": [
        "message = 'It was a bright cold day in April,and the clocks were striking thirteen.'\r\n",
        "          \r\n",
        "\r\n",
        "# o/p- {'I': 1, 't': 6, ' ': 13, 'w': 2, 'a': 4, 's': 3, 'b': 1, 'r': 5,\r\n",
        "#  'i': 6, 'g': 2, 'h': 3,\r\n",
        "#  'c': 3, 'o': 2, 'l': 3, 'd': 3, 'y': 1, 'n': 4,\r\n",
        "#  'A': 1, 'p': 1, ',': 1, 'e': 5, 'k': 2, '.': 1}"
      ],
      "execution_count": 2,
      "outputs": []
    },
    {
      "cell_type": "code",
      "metadata": {
        "colab": {
          "base_uri": "https://localhost:8080/"
        },
        "id": "e0dQkr-h9hje",
        "outputId": "59d0661f-acfa-4c98-8b9e-31f3fd77a9cb"
      },
      "source": [
        "x = input(\"my string: \")\r\n",
        "print(\"my string is\", x)\r\n",
        "dicts = {}\r\n",
        "for i in x:\r\n",
        "    if i in dicts.keys():\r\n",
        "        dicts[i]+=1\r\n",
        "    else:\r\n",
        "        dicts[i]=1\r\n",
        "print(dicts)        "
      ],
      "execution_count": 1,
      "outputs": [
        {
          "output_type": "stream",
          "text": [
            "my string: hello sir we I have done the program\n",
            "my string is hello sir we I have done the program\n",
            "{'h': 3, 'e': 5, 'l': 2, 'o': 3, ' ': 7, 's': 1, 'i': 1, 'r': 3, 'w': 1, 'I': 1, 'a': 2, 'v': 1, 'd': 1, 'n': 1, 't': 1, 'p': 1, 'g': 1, 'm': 1}\n"
          ],
          "name": "stdout"
        }
      ]
    },
    {
      "cell_type": "code",
      "metadata": {
        "colab": {
          "base_uri": "https://localhost:8080/"
        },
        "id": "s1_199Z09h2v",
        "outputId": "e0a8dea1-fc89-4a48-e72b-094cff3fa308"
      },
      "source": [
        "class Account:\r\n",
        "  def __init__(self, name, balance):\r\n",
        "    self.name = name\r\n",
        "    self.balance = balance\r\n",
        "    print(\"Account  has been created for {}\".format(self.name))\r\n",
        "    import time;\r\n",
        "    ts = time.ctime()\r\n",
        "    print(str (ts).format((\"%Y-%m-%dT%H:%M:%S.%f\")))\r\n",
        "  def deposite(self, ammount):\r\n",
        "    if ammount>0:\r\n",
        "      self.balance+=ammount\r\n",
        "    return str(self.balance)\r\n",
        "  #def show_transtion(self,) \r\n",
        "  def withdraw(self, ammount):\r\n",
        "    if 0<ammount<=self.balance:\r\n",
        "      self.balance-=ammount\r\n",
        "    else:\r\n",
        "      print(\"dont have sufficent balance\")\r\n",
        "      print(\"current balance is \" + str(self.balance))  \r\n",
        "\r\n",
        "    return str(self.balance)  \r\n",
        "\r\n",
        "\r\n",
        "cus1 = Account(name = \"tapas\",balance = 900)\r\n",
        "print(cus1.deposite(922)) \r\n",
        "print(cus1.withdraw(7999))   "
      ],
      "execution_count": 46,
      "outputs": [
        {
          "output_type": "stream",
          "text": [
            "Account  has been created for tapas\n",
            "Mon Feb  1 10:44:40 2021\n",
            "1822\n",
            "dont have sufficent balance\n",
            "current balance is 1822\n",
            "1822\n"
          ],
          "name": "stdout"
        }
      ]
    },
    {
      "cell_type": "code",
      "metadata": {
        "id": "vXy9yChUpoSZ"
      },
      "source": [
        ""
      ],
      "execution_count": null,
      "outputs": []
    },
    {
      "cell_type": "code",
      "metadata": {
        "id": "Ki1oiThQpojw"
      },
      "source": [
        ""
      ],
      "execution_count": null,
      "outputs": []
    },
    {
      "cell_type": "code",
      "metadata": {
        "id": "HXS49bvJpouQ"
      },
      "source": [
        ""
      ],
      "execution_count": null,
      "outputs": []
    }
  ]
}